{
 "cells": [
  {
   "cell_type": "markdown",
   "id": "d81e078c",
   "metadata": {},
   "source": [
    "### Replicating Fisher’s Analysis of Mendel’s Pea Data\n",
    "> Gregor Mendel’s classic pea‐plant experiments produced strikingly neat ratios (e.g. ~3:1 phenotypes in monohybrid crosses)\n",
    "\n",
    "> In 1936 R.A. Fisher re‐examined Mendel’s published counts and found the fit to expectation “too good to be true,” suggesting possible bias\n",
    "\n",
    "> Below we reconstruct Mendel’s key datasets and perform step-by-step χ² tests for each:\n",
    ">> Monohybrid Crosses (Phenotypes 3:1)\n",
    ">>> Mendel’s monohybrid crosses involve one trait (dominant vs recessive phenotype). He reported seven traits (seed shape, seed color, flower color, pod shape, pod color, flower position, stem length) each showing ~3:1 ratios\n",
    "The observed counts and expected counts are:"
   ]
  },
  {
   "cell_type": "code",
   "execution_count": 7,
   "id": "4eb24c57",
   "metadata": {},
   "outputs": [
    {
     "data": {
      "application/vnd.microsoft.datawrangler.viewer.v0+json": {
       "columns": [
        {
         "name": "index",
         "rawType": "int64",
         "type": "integer"
        },
        {
         "name": "Trait",
         "rawType": "object",
         "type": "string"
        },
        {
         "name": "Total",
         "rawType": "int64",
         "type": "integer"
        },
        {
         "name": "Observed Dominant",
         "rawType": "int64",
         "type": "integer"
        },
        {
         "name": "Observed Recessive",
         "rawType": "int64",
         "type": "integer"
        },
        {
         "name": "Expected Dominant (3:1)",
         "rawType": "int64",
         "type": "integer"
        },
        {
         "name": "Expected Recessive (3:1)",
         "rawType": "int64",
         "type": "integer"
        }
       ],
       "ref": "c4de7f03-b39b-4015-8293-579ef86b76bc",
       "rows": [
        [
         "0",
         "Seed Shape (round/wrinkle)",
         "7324",
         "5474",
         "1850",
         "5493",
         "1831"
        ],
        [
         "1",
         "Seed Color (yellow/green)",
         "8023",
         "6022",
         "2001",
         "6017",
         "2006"
        ],
        [
         "2",
         "Flower Color (violet/white)",
         "929",
         "705",
         "224",
         "697",
         "232"
        ],
        [
         "3",
         "Pod Shape (inflated/constricted)",
         "1181",
         "882",
         "299",
         "886",
         "295"
        ],
        [
         "4",
         "Pod Color (green/yellow unripe)",
         "580",
         "428",
         "152",
         "435",
         "145"
        ],
        [
         "5",
         "Flower Position (axial/terminal)",
         "858",
         "651",
         "207",
         "644",
         "214"
        ],
        [
         "6",
         "Stem Length (tall/dwarf)",
         "1064",
         "787",
         "277",
         "798",
         "266"
        ]
       ],
       "shape": {
        "columns": 6,
        "rows": 7
       }
      },
      "text/html": [
       "<div>\n",
       "<style scoped>\n",
       "    .dataframe tbody tr th:only-of-type {\n",
       "        vertical-align: middle;\n",
       "    }\n",
       "\n",
       "    .dataframe tbody tr th {\n",
       "        vertical-align: top;\n",
       "    }\n",
       "\n",
       "    .dataframe thead th {\n",
       "        text-align: right;\n",
       "    }\n",
       "</style>\n",
       "<table border=\"1\" class=\"dataframe\">\n",
       "  <thead>\n",
       "    <tr style=\"text-align: right;\">\n",
       "      <th></th>\n",
       "      <th>Trait</th>\n",
       "      <th>Total</th>\n",
       "      <th>Observed Dominant</th>\n",
       "      <th>Observed Recessive</th>\n",
       "      <th>Expected Dominant (3:1)</th>\n",
       "      <th>Expected Recessive (3:1)</th>\n",
       "    </tr>\n",
       "  </thead>\n",
       "  <tbody>\n",
       "    <tr>\n",
       "      <th>0</th>\n",
       "      <td>Seed Shape (round/wrinkle)</td>\n",
       "      <td>7324</td>\n",
       "      <td>5474</td>\n",
       "      <td>1850</td>\n",
       "      <td>5493</td>\n",
       "      <td>1831</td>\n",
       "    </tr>\n",
       "    <tr>\n",
       "      <th>1</th>\n",
       "      <td>Seed Color (yellow/green)</td>\n",
       "      <td>8023</td>\n",
       "      <td>6022</td>\n",
       "      <td>2001</td>\n",
       "      <td>6017</td>\n",
       "      <td>2006</td>\n",
       "    </tr>\n",
       "    <tr>\n",
       "      <th>2</th>\n",
       "      <td>Flower Color (violet/white)</td>\n",
       "      <td>929</td>\n",
       "      <td>705</td>\n",
       "      <td>224</td>\n",
       "      <td>697</td>\n",
       "      <td>232</td>\n",
       "    </tr>\n",
       "    <tr>\n",
       "      <th>3</th>\n",
       "      <td>Pod Shape (inflated/constricted)</td>\n",
       "      <td>1181</td>\n",
       "      <td>882</td>\n",
       "      <td>299</td>\n",
       "      <td>886</td>\n",
       "      <td>295</td>\n",
       "    </tr>\n",
       "    <tr>\n",
       "      <th>4</th>\n",
       "      <td>Pod Color (green/yellow unripe)</td>\n",
       "      <td>580</td>\n",
       "      <td>428</td>\n",
       "      <td>152</td>\n",
       "      <td>435</td>\n",
       "      <td>145</td>\n",
       "    </tr>\n",
       "    <tr>\n",
       "      <th>5</th>\n",
       "      <td>Flower Position (axial/terminal)</td>\n",
       "      <td>858</td>\n",
       "      <td>651</td>\n",
       "      <td>207</td>\n",
       "      <td>644</td>\n",
       "      <td>214</td>\n",
       "    </tr>\n",
       "    <tr>\n",
       "      <th>6</th>\n",
       "      <td>Stem Length (tall/dwarf)</td>\n",
       "      <td>1064</td>\n",
       "      <td>787</td>\n",
       "      <td>277</td>\n",
       "      <td>798</td>\n",
       "      <td>266</td>\n",
       "    </tr>\n",
       "  </tbody>\n",
       "</table>\n",
       "</div>"
      ],
      "text/plain": [
       "                              Trait  Total  Observed Dominant  \\\n",
       "0        Seed Shape (round/wrinkle)   7324               5474   \n",
       "1         Seed Color (yellow/green)   8023               6022   \n",
       "2       Flower Color (violet/white)    929                705   \n",
       "3  Pod Shape (inflated/constricted)   1181                882   \n",
       "4   Pod Color (green/yellow unripe)    580                428   \n",
       "5  Flower Position (axial/terminal)    858                651   \n",
       "6          Stem Length (tall/dwarf)   1064                787   \n",
       "\n",
       "   Observed Recessive  Expected Dominant (3:1)  Expected Recessive (3:1)  \n",
       "0                1850                     5493                      1831  \n",
       "1                2001                     6017                      2006  \n",
       "2                 224                      697                       232  \n",
       "3                 299                      886                       295  \n",
       "4                 152                      435                       145  \n",
       "5                 207                      644                       214  \n",
       "6                 277                      798                       266  "
      ]
     },
     "execution_count": 7,
     "metadata": {},
     "output_type": "execute_result"
    }
   ],
   "source": [
    "import pandas as pd\n",
    "\n",
    "data = {\n",
    "    'Trait': [\n",
    "        'Seed Shape (round/wrinkle)',\n",
    "        'Seed Color (yellow/green)',\n",
    "        'Flower Color (violet/white)',\n",
    "        'Pod Shape (inflated/constricted)',\n",
    "        'Pod Color (green/yellow unripe)',\n",
    "        'Flower Position (axial/terminal)',\n",
    "        'Stem Length (tall/dwarf)'\n",
    "    ],\n",
    "    'Total': [7324, 8023, 929, 1181, 580, 858, 1064],\n",
    "    'Observed Dominant': [5474, 6022, 705, 882, 428, 651, 787],\n",
    "    'Observed Recessive': [1850, 2001, 224, 299, 152, 207, 277],\n",
    "    'Expected Dominant (3:1)': [5493, 6017, 697, 886, 435, 644, 798],\n",
    "    'Expected Recessive (3:1)': [1831, 2006, 232, 295, 145, 214, 266]\n",
    "}\n",
    "\n",
    "\n",
    "df = pd.DataFrame(data)\n",
    "\n",
    "df"
   ]
  },
  {
   "cell_type": "code",
   "execution_count": null,
   "id": "cb50c4b2",
   "metadata": {},
   "outputs": [
    {
     "name": "stdout",
     "output_type": "stream",
     "text": [
      "[[5474 1850 7324]\n",
      " [6022 2001 8023]\n",
      " [ 705  224  929]\n",
      " [ 882  299 1181]\n",
      " [ 428  152  580]\n",
      " [ 651  207  858]\n",
      " [ 787  277 1064]]\n",
      "Chi-squared values for each experiment: [0.2628800291279811, 0.01499854584735552, 0.3907427341227126, 0.06350550381033022, 0.45057471264367815, 0.34965034965034963, 0.606516290726817]\n"
     ]
    }
   ],
   "source": [
    "import numpy as np\n",
    "\n",
    "data = np.array([\n",
    "    [5474, 1850, 7324],  # Expt 1 (seed shape)\n",
    "    [6022, 2001, 8023],  # Expt 2 (seed color)\n",
    "    [705,  224,  929],   # Expt 3 (flower color)\n",
    "    [882,  299, 1181],   # Expt 4 (pod shape)\n",
    "    [428,  152,  580],   # Expt 5 (pod color)\n",
    "    [651,  207,  858],   # Expt 6 (flower position)\n",
    "    [787,  277, 1064],   # Expt 7 (stem length)\n",
    "])\n",
    "\n",
    "chi2_vals = []\n",
    "for dom, rec, total in data:\n",
    "    exp_dom = total * 3/4\n",
    "    exp_rec = total * 1/4\n",
    "    chi2 = (dom-exp_dom)**2/exp_dom + (rec-exp_rec)**2/exp_rec\n",
    "    chi2_vals.append(chi2)\n",
    "chi2_vals, np.sum(chi2_vals)\n",
    "\n",
    "print(data)\n",
    "print(\"Chi-squared values for each experiment:\", chi2_vals) "
   ]
  },
  {
   "cell_type": "markdown",
   "id": "584ec07d",
   "metadata": {},
   "source": [
    "> The code above computes each cross’s χ² and sums them. For example, \n",
    "for seed‐shape: expected 3/4×7324=5493 round and 1/4×7324=1831 wrinkled. \n",
    "The χ² contributions are $(5474-5493)^2/5493 + (1850-1831)^2/1831≈0.12$. \n",
    "Repeating for all 7 crosses gives a total χ² ≈ 2.14 (df=7), p≈0.95. Individually, \n",
    "each χ² is small, showing very close agreement with the 3:1 expectation."
   ]
  },
  {
   "cell_type": "markdown",
   "id": "2acd5742",
   "metadata": {},
   "source": [
    "> Step-by-step χ² (monohybrid ex.1): \n",
    ">> For seed shape, χ2 = (5474 −5493)² /5493  + (1850 −1831)²/1831 ≈ 0.12,\n",
    ">>> ###### with df=1 (two categories minus one) . All seven experiments individually give similarly tiny χ². \n",
    ">>> ###### Degrees of freedom: Each monohybrid (binary phenotype) has df=1. For all 7, df_total=7. \n",
    "> Interpretation: High p-values (p≈0.95 combined) mean no evidence against the 3:1 ratio. Mendel’s phenotypic ratios fit theory extraordinarily well."
   ]
  },
  {
   "cell_type": "code",
   "execution_count": null,
   "id": "361ae6f4",
   "metadata": {},
   "outputs": [],
   "source": []
  }
 ],
 "metadata": {
  "kernelspec": {
   "display_name": "base",
   "language": "python",
   "name": "python3"
  },
  "language_info": {
   "codemirror_mode": {
    "name": "ipython",
    "version": 3
   },
   "file_extension": ".py",
   "mimetype": "text/x-python",
   "name": "python",
   "nbconvert_exporter": "python",
   "pygments_lexer": "ipython3",
   "version": "3.12.7"
  }
 },
 "nbformat": 4,
 "nbformat_minor": 5
}
